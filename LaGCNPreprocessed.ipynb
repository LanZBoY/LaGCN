{
 "cells": [
  {
   "cell_type": "code",
   "execution_count": 1,
   "metadata": {},
   "outputs": [
    {
     "name": "stderr",
     "output_type": "stream",
     "text": [
      "c:\\Users\\Wen2Tee5\\Desktop\\Postgraduate\\final\\finalEnv\\lib\\site-packages\\tqdm\\auto.py:21: TqdmWarning: IProgress not found. Please update jupyter and ipywidgets. See https://ipywidgets.readthedocs.io/en/stable/user_install.html\n",
      "  from .autonotebook import tqdm as notebook_tqdm\n"
     ]
    }
   ],
   "source": [
    "import torch\n",
    "import os\n",
    "import numpy as np\n",
    "import pandas as pd\n",
    "from tqdm import tqdm\n",
    "import dgl.sparse as dglsp\n",
    "from nltk.corpus import stopwords\n",
    "from utils import clean_str, remove_stopwords, nomalize_Adj\n",
    "from model import Vocaburary\n",
    "from IPython.display import clear_output\n",
    "from time import time"
   ]
  },
  {
   "cell_type": "code",
   "execution_count": 2,
   "metadata": {},
   "outputs": [],
   "source": [
    "ROOT = './ProcessedData'\n",
    "TRAIN_DATA = 'train_data.csv'\n",
    "TEST_DATA = 'test_data.csv'\n",
    "MAX_WINDOW_SIZE = 20"
   ]
  },
  {
   "cell_type": "code",
   "execution_count": 3,
   "metadata": {},
   "outputs": [
    {
     "name": "stdout",
     "output_type": "stream",
     "text": [
      "==================================\n",
      "Current Dataset = 20NG\n",
      "**********************************\n",
      "Current Window Size = 20\n"
     ]
    },
    {
     "name": "stderr",
     "output_type": "stream",
     "text": [
      "Counting Word...: 100%|██████████| 11314/11314 [00:00<00:00, 22067.35it/s]\n",
      "Counting Word...: 100%|██████████| 7532/7532 [00:00<00:00, 24238.24it/s]\n",
      "constrcuting train_word_set...: 100%|██████████| 11314/11314 [00:00<00:00, 155830.23it/s]\n",
      "constructing test_word_set...: 100%|██████████| 7532/7532 [00:00<00:00, 161923.81it/s]\n",
      "18846it [00:00, 56303.83it/s]\n",
      "Constructing Graph...: 100%|██████████| 18846/18846 [04:06<00:00, 76.45it/s] \n",
      "Building Graph...: 100%|██████████| 27720885/27720885 [00:13<00:00, 2087506.74it/s]\n"
     ]
    },
    {
     "name": "stdout",
     "output_type": "stream",
     "text": [
      "PreprocessTime = 343.340628862381\n",
      "**********************************\n",
      "Done ! Dataset :20NG\n",
      "==================================\n",
      "==================================\n",
      "Current Dataset = mr\n",
      "**********************************\n",
      "Current Window Size = 20\n"
     ]
    },
    {
     "name": "stderr",
     "output_type": "stream",
     "text": [
      "Counting Word...: 100%|██████████| 7108/7108 [00:00<00:00, 264171.84it/s]\n",
      "Counting Word...: 100%|██████████| 3554/3554 [00:00<00:00, 273314.20it/s]\n",
      "constrcuting train_word_set...: 100%|██████████| 7108/7108 [00:00<00:00, 888273.18it/s]\n",
      "constructing test_word_set...: 100%|██████████| 3554/3554 [00:00<00:00, 710478.83it/s]\n",
      "10662it [00:00, 308937.77it/s]\n",
      "Constructing Graph...: 100%|██████████| 10662/10662 [00:04<00:00, 2486.65it/s]\n",
      "Building Graph...: 100%|██████████| 1763460/1763460 [00:00<00:00, 2147150.01it/s]\n"
     ]
    },
    {
     "name": "stdout",
     "output_type": "stream",
     "text": [
      "PreprocessTime = 14.693224668502808\n",
      "**********************************\n",
      "Done ! Dataset :mr\n",
      "==================================\n",
      "==================================\n",
      "Current Dataset = ohsumed_single_23\n",
      "**********************************\n",
      "Current Window Size = 20\n"
     ]
    },
    {
     "name": "stderr",
     "output_type": "stream",
     "text": [
      "Counting Word...: 100%|██████████| 3357/3357 [00:00<00:00, 41423.79it/s]\n",
      "Counting Word...: 100%|██████████| 4043/4043 [00:00<00:00, 39808.93it/s]\n",
      "constrcuting train_word_set...: 100%|██████████| 3357/3357 [00:00<00:00, 239244.87it/s]\n",
      "constructing test_word_set...: 100%|██████████| 4043/4043 [00:00<00:00, 237767.40it/s]\n",
      "7400it [00:00, 88083.37it/s]\n",
      "Constructing Graph...: 100%|██████████| 7400/7400 [00:59<00:00, 123.60it/s]\n",
      "Building Graph...: 100%|██████████| 8638721/8638721 [00:04<00:00, 2034358.04it/s]\n"
     ]
    },
    {
     "name": "stdout",
     "output_type": "stream",
     "text": [
      "PreprocessTime = 70.9421374797821\n",
      "**********************************\n",
      "Done ! Dataset :ohsumed_single_23\n",
      "==================================\n",
      "==================================\n",
      "Current Dataset = R52\n",
      "**********************************\n",
      "Current Window Size = 20\n"
     ]
    },
    {
     "name": "stderr",
     "output_type": "stream",
     "text": [
      "Counting Word...: 100%|██████████| 6532/6532 [00:00<00:00, 78197.26it/s]\n",
      "Counting Word...: 100%|██████████| 2568/2568 [00:00<00:00, 81480.99it/s]\n",
      "constrcuting train_word_set...: 100%|██████████| 6532/6532 [00:00<00:00, 421229.59it/s]\n",
      "constructing test_word_set...: 100%|██████████| 2568/2568 [00:00<00:00, 427844.00it/s]\n",
      "9100it [00:00, 152868.95it/s]\n",
      "Constructing Graph...: 100%|██████████| 9100/9100 [00:31<00:00, 285.50it/s]\n",
      "Building Graph...: 100%|██████████| 4540224/4540224 [00:02<00:00, 2072450.66it/s]\n"
     ]
    },
    {
     "name": "stdout",
     "output_type": "stream",
     "text": [
      "PreprocessTime = 38.87509322166443\n",
      "**********************************\n",
      "Done ! Dataset :R52\n",
      "==================================\n",
      "==================================\n",
      "Current Dataset = R8\n",
      "**********************************\n",
      "Current Window Size = 20\n"
     ]
    },
    {
     "name": "stderr",
     "output_type": "stream",
     "text": [
      "Counting Word...: 100%|██████████| 5485/5485 [00:00<00:00, 80026.15it/s]\n",
      "Counting Word...: 100%|██████████| 2189/2189 [00:00<00:00, 80989.12it/s]\n",
      "constrcuting train_word_set...: 100%|██████████| 5485/5485 [00:00<00:00, 421860.81it/s]\n",
      "constructing test_word_set...: 100%|██████████| 2189/2189 [00:00<00:00, 437581.33it/s]\n",
      "7674it [00:00, 182532.72it/s]\n",
      "Constructing Graph...: 100%|██████████| 7674/7674 [00:24<00:00, 317.96it/s]\n",
      "Building Graph...: 100%|██████████| 3585748/3585748 [00:01<00:00, 2136802.42it/s]\n"
     ]
    },
    {
     "name": "stdout",
     "output_type": "stream",
     "text": [
      "PreprocessTime = 29.460986137390137\n",
      "**********************************\n",
      "Done ! Dataset :R8\n",
      "==================================\n"
     ]
    }
   ],
   "source": [
    "for dataset in os.listdir(ROOT):\n",
    "    for window_size in range(20, MAX_WINDOW_SIZE + 1):\n",
    "        # clear_output(wait = True)\n",
    "        preprocess_start = time()\n",
    "        print(f\"==================================\")\n",
    "        print(f'Current Dataset = {dataset}')\n",
    "        print(f'**********************************')\n",
    "        print(f'Current Window Size = {window_size}')\n",
    "        TARGET_DATA = f'WholeGraphDict_w{window_size}.gh'\n",
    "        file_path = os.path.join(ROOT, dataset)\n",
    "        save_path = os.path.join(file_path, TARGET_DATA)\n",
    "        if os.path.isfile(save_path):\n",
    "            print(\"File has exsit, Skip it\")\n",
    "            continue\n",
    "        train_df = pd.read_csv(os.path.join(file_path, TRAIN_DATA), index_col=False)\n",
    "        test_df = pd.read_csv(os.path.join(file_path, TEST_DATA), index_col=False)\n",
    "        train_df['text'] = train_df['text'].map(clean_str)\n",
    "        test_df['text'] = test_df['text'].map(clean_str)\n",
    "        if dataset != 'mr':\n",
    "            train_df['text'] = train_df['text'].map(remove_stopwords)\n",
    "            test_df['text'] = test_df['text'].map(remove_stopwords)\n",
    "\n",
    "        word_count = {}\n",
    "        for text in tqdm(train_df['text'], desc='Counting Word...'):\n",
    "            for word in text.split():\n",
    "                if word not in word_count:\n",
    "                    word_count.update({word: 0})\n",
    "                word_count[word] +=1\n",
    "        for text in tqdm(test_df['text'], desc='Counting Word...'):\n",
    "            for word in text.split():\n",
    "                if word not in word_count:\n",
    "                    word_count.update({word: 0})\n",
    "                word_count[word] +=1\n",
    "        if dataset == 'mr':\n",
    "            voc = Vocaburary(word_count = word_count)\n",
    "        else:\n",
    "            voc = Vocaburary(word_count = word_count, min_time = 5)\n",
    "\n",
    "        train_df['ids'] = train_df['text'].map(lambda x : voc.encode(x.split()))\n",
    "        test_df['ids'] = test_df['text'].map(lambda x : voc.encode(x.split()))\n",
    "\n",
    "        train_word_set = set()\n",
    "        test_word_set = set()\n",
    "        for ids in tqdm(train_df['ids'], desc='constrcuting train_word_set...'):\n",
    "            id_set = set(ids)\n",
    "            train_word_set.update(ids)\n",
    "        for ids in tqdm(test_df['ids'], desc='constructing test_word_set...'):\n",
    "            id_set = set(ids)\n",
    "            test_word_set.update(ids)\n",
    "\n",
    "        ALL_df = pd.concat([train_df, test_df], axis=0, ignore_index=True)\n",
    "\n",
    "        label_num = ALL_df['target'].unique().max() + 1\n",
    "\n",
    "        doc_word_graph = {\"doc_node\": [],\n",
    "                        \"word_node\" : []}\n",
    "        label_word_graph = {\"label_node\" : [],\n",
    "                            \"word_node\" : []}\n",
    "        for doc_id, (label_id, ids) in enumerate(tqdm(zip(ALL_df['target'], ALL_df['ids']))):\n",
    "            data = ids\n",
    "            doc_word_graph['doc_node'] += [doc_id for _ in data]\n",
    "            doc_word_graph['word_node'] += data\n",
    "\n",
    "            label_word_graph['label_node'] += [label_id for _ in data]\n",
    "            label_word_graph['word_node'] += data\n",
    "        doc_num = doc_id + 1\n",
    "\n",
    "        doc_word_mat = dglsp.spmatrix(\n",
    "            indices = torch.tensor([doc_word_graph['doc_node'], doc_word_graph['word_node']]),\n",
    "            shape = (doc_num, len(voc))\n",
    "            )\n",
    "\n",
    "        label_word_mat = dglsp.spmatrix(\n",
    "            indices = torch.tensor([label_word_graph['label_node'], label_word_graph['word_node']]),\n",
    "            shape = (label_num, len(voc))\n",
    "            )\n",
    "        containMat = doc_word_mat.to_dense()\n",
    "        countMat = doc_word_mat.coalesce().to_dense()\n",
    "        tf = (countMat.T / (countMat.sum(dim=1) + 1e-9)).T\n",
    "        idf = torch.log10(containMat.shape[0] / (containMat.sum(dim=0) + 1e-9))\n",
    "        doc_word_tfidf = (tf * idf).to_sparse()\n",
    "        containMat = label_word_mat.to_dense()\n",
    "        countMat = label_word_mat.coalesce().to_dense()\n",
    "        tf = (countMat.T / (countMat.sum(dim=1) + 1e-9)).T\n",
    "        idf = torch.log10(containMat.shape[0] / (containMat.sum(dim=0) + 1e-9))\n",
    "        label_word_tfidf = (tf * idf).to_sparse()\n",
    "        word_Y = countMat / countMat.T.sum(dim=1)\n",
    "        src_dst_nodes = {}\n",
    "        total_window = 0.\n",
    "        for ids in tqdm(ALL_df['ids'], desc=\"Constructing Graph...\"):\n",
    "            for w in range(max(len(ids) - window_size + 1, 1)): \n",
    "                window = set(ids[w : w + window_size])\n",
    "                for i in window:\n",
    "                    for j in window:\n",
    "                        if (i, j) not in src_dst_nodes:\n",
    "                            src_dst_nodes.update({(i, j) : 0})\n",
    "                        src_dst_nodes[(i,j)] += 1\n",
    "                total_window+=1.\n",
    "        src_nodes = []\n",
    "        dst_nodes = []\n",
    "        values = []\n",
    "        for (i,j) in tqdm(src_dst_nodes.keys(), desc='Building Graph...'):\n",
    "            src_nodes.append(i)\n",
    "            dst_nodes.append(j)\n",
    "            values.append(src_dst_nodes[(i,j)])\n",
    "\n",
    "        co_occurMat = dglsp.spmatrix(\n",
    "            torch.tensor([src_nodes, dst_nodes]), \n",
    "            val= torch.tensor(values, dtype=torch.float32), \n",
    "            shape=(len(voc), len(voc))\n",
    "            )\n",
    "        \n",
    "        p_mat = (co_occurMat.to_dense() / total_window)\n",
    "        p_diag = torch.diag(p_mat)\n",
    "        p_diag = p_diag.unsqueeze(1) @ p_diag.unsqueeze(0)\n",
    "        word_word_PMI = (torch.log10(p_mat/(p_diag + 1e-9) + 1)).to_sparse()\n",
    "        word_word_PMI = nomalize_Adj(word_word_PMI)\n",
    "        whole_graph = torch.zeros(size = (word_word_PMI.shape[0] + doc_word_tfidf.shape[0] + label_word_tfidf.shape[0], word_word_PMI.shape[0] + doc_word_tfidf.shape[0] + label_word_tfidf.shape[0]))\n",
    "        D = doc_word_tfidf.shape[0]\n",
    "        W = word_word_PMI.shape[0]\n",
    "        L = label_word_tfidf.shape[0]\n",
    "        A = whole_graph.shape[0]\n",
    "        whole_graph[:D, :D] = torch.ones(size = (doc_num,)).diagflat() # doc-doc identity\n",
    "        whole_graph[:D,D:A-L] = doc_word_tfidf.to_dense() # tf-idf doc\n",
    "        whole_graph[D:A-L, :D] = doc_word_tfidf.T.to_dense() # tf-idf doc T\n",
    "        whole_graph[D:A-L, D:A-L] = word_word_PMI.to_dense() # word-word PMI\n",
    "        whole_graph[D:A-L, D+W:] = label_word_tfidf.T.to_dense() # label-word T\n",
    "        whole_graph[D+W:, D:A-L] = label_word_tfidf.to_dense() #label-word\n",
    "        whole_graph[D+W:, D+W:] = torch.ones(size = (label_num,)).diagflat() # label-label identity\n",
    "        whole_graph = whole_graph.to_sparse()\n",
    "        doc_Y = torch.tensor(ALL_df['target'].to_list(), dtype=torch.int64)\n",
    "        label_Y = torch.arange(0, L, 1, dtype = torch.int64)\n",
    "        train_mask = torch.zeros(size=(len(ALL_df), ), dtype=torch.bool)\n",
    "        train_mask[:len(train_df)] = True\n",
    "        train_mask[len(train_df):] = False\n",
    "        torch.save({\n",
    "            \"voc\":voc,\n",
    "            'train_word' : train_word_set,\n",
    "            'test_word': test_word_set,\n",
    "            \"whole_graph\": whole_graph,\n",
    "            \"doc_Y\":doc_Y,\n",
    "            'word_Y': word_Y,\n",
    "            \"label_Y\":label_Y,\n",
    "            \"train_mask\": train_mask,\n",
    "            \"D\":D,\n",
    "            \"W\":W,\n",
    "            \"L\":L\n",
    "        }, save_path)\n",
    "        print(f\"     = {time() - preprocess_start}\")\n",
    "        print(f'**********************************')\n",
    "    print(f'Done ! Dataset :{dataset}')\n",
    "    print(f\"==================================\")"
   ]
  }
 ],
 "metadata": {
  "kernelspec": {
   "display_name": "finalEnv",
   "language": "python",
   "name": "python3"
  },
  "language_info": {
   "codemirror_mode": {
    "name": "ipython",
    "version": 3
   },
   "file_extension": ".py",
   "mimetype": "text/x-python",
   "name": "python",
   "nbconvert_exporter": "python",
   "pygments_lexer": "ipython3",
   "version": "3.10.7"
  },
  "orig_nbformat": 4
 },
 "nbformat": 4,
 "nbformat_minor": 2
}
