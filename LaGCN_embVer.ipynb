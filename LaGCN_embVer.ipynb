{
 "cells": [
  {
   "cell_type": "code",
   "execution_count": 1,
   "metadata": {},
   "outputs": [],
   "source": [
    "import torch\n",
    "from tqdm import tqdm\n",
    "from model import Vocaburary, Emb_TextGCN"
   ]
  },
  {
   "cell_type": "code",
   "execution_count": 2,
   "metadata": {},
   "outputs": [],
   "source": [
    "EPOCH = 300\n",
    "EMBEDDING_DIM = 300\n",
    "HIDDEN_DIM = 200"
   ]
  },
  {
   "cell_type": "code",
   "execution_count": 3,
   "metadata": {},
   "outputs": [],
   "source": [
    "dataset_names = {\n",
    "    \"20NewsGroup\": \"20NG\",\n",
    "    \"MR\":\"mr\",\n",
    "    \"Ohsumed\":\"ohsumed_single_23\",\n",
    "    \"R52\":\"R52\",\n",
    "    \"R8\":\"R8\"\n",
    "}\n",
    "dir_name = dataset_names['MR']"
   ]
  },
  {
   "cell_type": "code",
   "execution_count": 4,
   "metadata": {},
   "outputs": [
    {
     "data": {
      "text/plain": [
       "dict_keys(['voc', 'train_word', 'test_word', 'whole_graph', 'doc_Y', 'word_Y', 'label_Y', 'train_mask', 'D', 'W', 'L'])"
      ]
     },
     "execution_count": 4,
     "metadata": {},
     "output_type": "execute_result"
    }
   ],
   "source": [
    "dict_data = torch.load(f'./ProcessedData/{dir_name}/WholeGraphDict.gh')\n",
    "dict_data.keys()"
   ]
  },
  {
   "cell_type": "code",
   "execution_count": 5,
   "metadata": {},
   "outputs": [
    {
     "ename": "AssertionError",
     "evalue": "Torch not compiled with CUDA enabled",
     "output_type": "error",
     "traceback": [
      "\u001b[1;31m---------------------------------------------------------------------------\u001b[0m",
      "\u001b[1;31mAssertionError\u001b[0m                            Traceback (most recent call last)",
      "Cell \u001b[1;32mIn[5], line 2\u001b[0m\n\u001b[0;32m      1\u001b[0m voc : Vocaburary \u001b[38;5;241m=\u001b[39m dict_data[\u001b[38;5;124m'\u001b[39m\u001b[38;5;124mvoc\u001b[39m\u001b[38;5;124m'\u001b[39m]\n\u001b[1;32m----> 2\u001b[0m whole_graph \u001b[38;5;241m=\u001b[39m \u001b[43mdict_data\u001b[49m\u001b[43m[\u001b[49m\u001b[38;5;124;43m'\u001b[39;49m\u001b[38;5;124;43mwhole_graph\u001b[39;49m\u001b[38;5;124;43m'\u001b[39;49m\u001b[43m]\u001b[49m\u001b[38;5;241;43m.\u001b[39;49m\u001b[43mcuda\u001b[49m\u001b[43m(\u001b[49m\u001b[43m)\u001b[49m\n\u001b[0;32m      3\u001b[0m word_num \u001b[38;5;241m=\u001b[39m dict_data[\u001b[38;5;124m'\u001b[39m\u001b[38;5;124mW\u001b[39m\u001b[38;5;124m'\u001b[39m]\n\u001b[0;32m      4\u001b[0m label_num \u001b[38;5;241m=\u001b[39m dict_data[\u001b[38;5;124m'\u001b[39m\u001b[38;5;124mL\u001b[39m\u001b[38;5;124m'\u001b[39m]\n",
      "File \u001b[1;32mc:\\Users\\Wen2Tee5\\Desktop\\Postgraduate\\final\\tempEnv\\lib\\site-packages\\torch\\cuda\\__init__.py:289\u001b[0m, in \u001b[0;36m_lazy_init\u001b[1;34m()\u001b[0m\n\u001b[0;32m    284\u001b[0m     \u001b[38;5;28;01mraise\u001b[39;00m \u001b[38;5;167;01mRuntimeError\u001b[39;00m(\n\u001b[0;32m    285\u001b[0m         \u001b[38;5;124m\"\u001b[39m\u001b[38;5;124mCannot re-initialize CUDA in forked subprocess. To use CUDA with \u001b[39m\u001b[38;5;124m\"\u001b[39m\n\u001b[0;32m    286\u001b[0m         \u001b[38;5;124m\"\u001b[39m\u001b[38;5;124mmultiprocessing, you must use the \u001b[39m\u001b[38;5;124m'\u001b[39m\u001b[38;5;124mspawn\u001b[39m\u001b[38;5;124m'\u001b[39m\u001b[38;5;124m start method\u001b[39m\u001b[38;5;124m\"\u001b[39m\n\u001b[0;32m    287\u001b[0m     )\n\u001b[0;32m    288\u001b[0m \u001b[38;5;28;01mif\u001b[39;00m \u001b[38;5;129;01mnot\u001b[39;00m \u001b[38;5;28mhasattr\u001b[39m(torch\u001b[38;5;241m.\u001b[39m_C, \u001b[38;5;124m\"\u001b[39m\u001b[38;5;124m_cuda_getDeviceCount\u001b[39m\u001b[38;5;124m\"\u001b[39m):\n\u001b[1;32m--> 289\u001b[0m     \u001b[38;5;28;01mraise\u001b[39;00m \u001b[38;5;167;01mAssertionError\u001b[39;00m(\u001b[38;5;124m\"\u001b[39m\u001b[38;5;124mTorch not compiled with CUDA enabled\u001b[39m\u001b[38;5;124m\"\u001b[39m)\n\u001b[0;32m    290\u001b[0m \u001b[38;5;28;01mif\u001b[39;00m _cudart \u001b[38;5;129;01mis\u001b[39;00m \u001b[38;5;28;01mNone\u001b[39;00m:\n\u001b[0;32m    291\u001b[0m     \u001b[38;5;28;01mraise\u001b[39;00m \u001b[38;5;167;01mAssertionError\u001b[39;00m(\n\u001b[0;32m    292\u001b[0m         \u001b[38;5;124m\"\u001b[39m\u001b[38;5;124mlibcudart functions unavailable. It looks like you have a broken build?\u001b[39m\u001b[38;5;124m\"\u001b[39m\n\u001b[0;32m    293\u001b[0m     )\n",
      "\u001b[1;31mAssertionError\u001b[0m: Torch not compiled with CUDA enabled"
     ]
    }
   ],
   "source": [
    "voc : Vocaburary = dict_data['voc']\n",
    "whole_graph = dict_data['whole_graph'].cuda()\n",
    "word_num = dict_data['W']\n",
    "label_num = dict_data['L']\n",
    "doc_num = dict_data['D']\n",
    "train_mask = dict_data['train_mask'].cuda()\n",
    "doc_Y : torch.Tensor = dict_data['doc_Y'].cuda()\n",
    "word_Y : torch.Tensor = dict_data['word_Y'].T.cuda()\n",
    "label_Y : torch.Tensor = dict_data['label_Y'].cuda()\n",
    "train_words = list(dict_data['train_word'])\n",
    "test_words = list(dict_data['test_word'])\n",
    "train_words.sort()\n",
    "test_words.sort()"
   ]
  },
  {
   "cell_type": "code",
   "execution_count": null,
   "metadata": {},
   "outputs": [
    {
     "name": "stdout",
     "output_type": "stream",
     "text": [
      "{'#DOC': 10662, '#Word': 18764, '#Class': 2, '#Train': 7108, '#Test': 3554, '#NODE': 29428}\n"
     ]
    }
   ],
   "source": [
    "train_num = train_mask.count_nonzero().cpu().item()\n",
    "test_num = doc_num - train_num\n",
    "print({\n",
    "    \"#DOC\":doc_num,\n",
    "    \"#Word\":word_num,\n",
    "    \"#Class\":label_num,\n",
    "    \"#Train\" : train_num,\n",
    "    \"#Test\" : test_num,\n",
    "    \"#NODE\" : word_num + doc_num + label_num\n",
    "})"
   ]
  },
  {
   "cell_type": "code",
   "execution_count": null,
   "metadata": {},
   "outputs": [
    {
     "name": "stderr",
     "output_type": "stream",
     "text": [
      "100%|██████████| 300/300 [00:09<00:00, 31.56it/s, LOSS=0.353, Accuracy=0.802]\n"
     ]
    }
   ],
   "source": [
    "log = {\"ACC\": [], \"LOSS\": []}\n",
    "model = Emb_TextGCN(doc_num=doc_num, word_num=word_num, label_num=label_num, embedding_dim = EMBEDDING_DIM, hidden_dim = HIDDEN_DIM).cuda()\n",
    "optim = torch.optim.Adam(model.parameters(), lr=1e-3)\n",
    "loss_fn = torch.nn.CrossEntropyLoss()\n",
    "trainingProcess = tqdm(range(EPOCH))\n",
    "for epoch in trainingProcess:\n",
    "    total_loss = 0.\n",
    "    optim.zero_grad()\n",
    "    y_hat = model(whole_graph)\n",
    "    doc_Y_hat = y_hat[:doc_num]\n",
    "    word_Y_hat = y_hat[doc_num:-label_num]\n",
    "    label_Y_hat = y_hat[doc_num+word_num :]\n",
    "    doc_loss = loss_fn(doc_Y_hat[train_mask], doc_Y[train_mask])\n",
    "    word_loss = loss_fn(word_Y_hat[train_words], word_Y[train_words])\n",
    "    label_loss = loss_fn(label_Y_hat, label_Y)\n",
    "    loss = 1.0 * doc_loss + 1.0 * word_loss + 1.0 * label_loss\n",
    "    loss.backward()\n",
    "    optim.step()\n",
    "    loss_val = loss.item()\n",
    "    with torch.no_grad():\n",
    "        acc_val = ((doc_Y_hat.argmax(1)[~train_mask] == doc_Y.cuda()[~train_mask]).sum() / (~train_mask).sum()).item()\n",
    "    trainingProcess.set_postfix({\"LOSS\": loss_val, \"Accuracy\":acc_val})\n",
    "    log['ACC'].append(acc_val)\n",
    "    log[\"LOSS\"].append(loss_val)"
   ]
  },
  {
   "cell_type": "code",
   "execution_count": null,
   "metadata": {},
   "outputs": [
    {
     "data": {
      "text/plain": [
       "0.8190770745277405"
      ]
     },
     "execution_count": 8,
     "metadata": {},
     "output_type": "execute_result"
    }
   ],
   "source": [
    "max(log['ACC'])"
   ]
  }
 ],
 "metadata": {
  "kernelspec": {
   "display_name": "finalEnv",
   "language": "python",
   "name": "python3"
  },
  "language_info": {
   "codemirror_mode": {
    "name": "ipython",
    "version": 3
   },
   "file_extension": ".py",
   "mimetype": "text/x-python",
   "name": "python",
   "nbconvert_exporter": "python",
   "pygments_lexer": "ipython3",
   "version": "3.10.7"
  },
  "orig_nbformat": 4
 },
 "nbformat": 4,
 "nbformat_minor": 2
}
