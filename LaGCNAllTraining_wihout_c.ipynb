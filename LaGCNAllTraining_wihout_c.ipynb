{
 "cells": [
  {
   "cell_type": "code",
   "execution_count": 1,
   "metadata": {},
   "outputs": [],
   "source": [
    "import torch\n",
    "from tqdm import tqdm\n",
    "from model import Vocaburary, TextGCN"
   ]
  },
  {
   "cell_type": "code",
   "execution_count": 2,
   "metadata": {},
   "outputs": [
    {
     "name": "stdout",
     "output_type": "stream",
     "text": [
      "cuda\n"
     ]
    }
   ],
   "source": [
    "device = torch.device('cuda' if torch.cuda.is_available() else 'cpu')\n",
    "print(device)"
   ]
  },
  {
   "cell_type": "code",
   "execution_count": 3,
   "metadata": {},
   "outputs": [],
   "source": [
    "EPOCH = 300\n",
    "HIDDEN_DIM = 200"
   ]
  },
  {
   "cell_type": "code",
   "execution_count": 4,
   "metadata": {},
   "outputs": [],
   "source": [
    "dataset_names = {\n",
    "    \"20NewsGroup\": \"20NG\",\n",
    "    \"MR\":\"mr\",\n",
    "    \"Ohsumed\":\"ohsumed_single_23\",\n",
    "    \"R52\":\"R52\",\n",
    "    \"R8\":\"R8\"\n",
    "}"
   ]
  },
  {
   "cell_type": "code",
   "execution_count": 5,
   "metadata": {},
   "outputs": [
    {
     "name": "stdout",
     "output_type": "stream",
     "text": [
      "20NewsGroup\n",
      "{'#DOC': 18846, '#Word': 42757, '#Class': 20, '#Train': 11314, '#Test': 7532, '#NODE': 61603}\n"
     ]
    }
   ],
   "source": [
    "for key in dataset_names.keys():\n",
    "    print(key)\n",
    "    dir_name = dataset_names[key]\n",
    "    dict_data = torch.load(f'./ProcessedData/{dir_name}/WholeGraphDict_w20_wihout_c.gh')\n",
    "    voc : Vocaburary = dict_data['voc']\n",
    "    whole_graph = dict_data['whole_graph'].to(device)\n",
    "    word_num = dict_data['W']\n",
    "    label_num = dict_data['L']\n",
    "    doc_num = dict_data['D']\n",
    "    train_mask = dict_data['train_mask'].to(device)\n",
    "    doc_Y : torch.Tensor = dict_data['doc_Y'].to(device)\n",
    "    word_Y : torch.Tensor = dict_data['word_Y'].T.to(device)\n",
    "    train_words = list(dict_data['train_word'])\n",
    "    test_words = list(dict_data['test_word'])\n",
    "    train_words.sort()\n",
    "    test_words.sort()\n",
    "    train_num = train_mask.count_nonzero().cpu().item()\n",
    "    test_num = doc_num - train_num\n",
    "    print({\n",
    "    \"#DOC\":doc_num,\n",
    "    \"#Word\":word_num,\n",
    "    \"#Class\":label_num,\n",
    "    \"#Train\" : train_num,\n",
    "    \"#Test\" : test_num,\n",
    "    \"#NODE\" : word_num + doc_num\n",
    "    })\n",
    "    log = {\"ACC\": [], \"LOSS\": []}\n",
    "    model = TextGCN(whole_graph.shape[0], HIDDEN_DIM, label_num).to(device)\n",
    "    optim = torch.optim.Adam(model.parameters(), lr=1e-3)\n",
    "    loss_fn = torch.nn.CrossEntropyLoss()\n",
    "    trainingProcess = tqdm(range(EPOCH))\n",
    "    for epoch in trainingProcess:\n",
    "        total_loss = 0.\n",
    "        optim.zero_grad()\n",
    "        y_hat = model(whole_graph)\n",
    "        doc_Y_hat = y_hat[:doc_num]\n",
    "        word_Y_hat = y_hat[doc_num:]\n",
    "        doc_loss = loss_fn(doc_Y_hat[train_mask], doc_Y[train_mask])\n",
    "        word_loss = loss_fn(word_Y_hat[train_words], word_Y[train_words])\n",
    "        loss = 1.0 * doc_loss + 1.0 * word_loss\n",
    "        loss.backward()\n",
    "        optim.step()\n",
    "        loss_val = loss.item()\n",
    "        with torch.no_grad():\n",
    "            acc_val = ((doc_Y_hat.argmax(1)[~train_mask] == doc_Y.to(device)[~train_mask]).sum() / (~train_mask).sum()).item()\n",
    "        trainingProcess.set_postfix({\"LOSS\": loss_val, \"Accuracy\":acc_val})\n",
    "        log['ACC'].append(acc_val)\n",
    "        log[\"LOSS\"].append(loss_val)\n",
    "    print(max(log['ACC']))"
   ]
  }
 ],
 "metadata": {
  "kernelspec": {
   "display_name": "finalEnv",
   "language": "python",
   "name": "python3"
  },
  "language_info": {
   "codemirror_mode": {
    "name": "ipython",
    "version": 3
   },
   "file_extension": ".py",
   "mimetype": "text/x-python",
   "name": "python",
   "nbconvert_exporter": "python",
   "pygments_lexer": "ipython3",
   "version": "3.10.7"
  },
  "orig_nbformat": 4
 },
 "nbformat": 4,
 "nbformat_minor": 2
}
