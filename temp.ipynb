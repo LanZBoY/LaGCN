{
 "cells": [
  {
   "cell_type": "code",
   "execution_count": 15,
   "metadata": {},
   "outputs": [],
   "source": [
    "import torch\n",
    "import time\n",
    "from IPython.display import clear_output\n",
    "from time import time"
   ]
  },
  {
   "cell_type": "code",
   "execution_count": 12,
   "metadata": {},
   "outputs": [],
   "source": [
    "src = [0,1,0,4,4,1,4,3,3,2,2,1,5,3]\n",
    "dst = [1,0,4,0,1,4,3,4,2,3,1,2,3,5]\n",
    "edge_weight = [1, 1,1,1,1,1,1,1,1,1,1,1,1,1,1]\n",
    "A = torch.sparse_coo_tensor(indices=torch.tensor([src, dst]), values=edge_weight, dtype=torch.float32)\n",
    "r1 = 0\n",
    "r2 = 1"
   ]
  },
  {
   "cell_type": "code",
   "execution_count": 15,
   "metadata": {},
   "outputs": [
    {
     "name": "stdout",
     "output_type": "stream",
     "text": [
      "tensor([[0., 1., 0., 0., 1., 0.],\n",
      "        [2., 0., 1., 0., 1., 0.],\n",
      "        [0., 1., 0., 1., 0., 0.],\n",
      "        [0., 0., 1., 0., 1., 1.],\n",
      "        [1., 1., 0., 1., 0., 0.],\n",
      "        [0., 0., 0., 1., 0., 0.]])\n",
      "--------------------------\n",
      "tensor(indices=tensor([[0, 1, 1, 0, 4, 4, 1, 4, 3, 3, 2, 2, 1, 5, 3],\n",
      "                       [1, 0, 0, 4, 0, 1, 4, 3, 4, 2, 3, 1, 2, 3, 5]]),\n",
      "       values=tensor([1., 1., 1., 1., 1., 1., 1., 1., 1., 1., 1., 1., 1., 1.,\n",
      "                      1.]),\n",
      "       size=(6, 6), nnz=15, layout=torch.sparse_coo)\n",
      "tensor(indices=tensor([[0, 0, 1, 1, 1, 2, 2, 3, 3, 3, 4, 4, 4, 5],\n",
      "                       [1, 4, 0, 2, 4, 1, 3, 2, 4, 5, 0, 1, 3, 3]]),\n",
      "       values=tensor([1., 1., 2., 1., 1., 1., 1., 1., 1., 1., 1., 1., 1., 1.]),\n",
      "       size=(6, 6), nnz=14, layout=torch.sparse_coo)\n"
     ]
    }
   ],
   "source": [
    "print(A.to_dense())\n",
    "print('--------------------------')\n",
    "print(A)"
   ]
  },
  {
   "cell_type": "code",
   "execution_count": 4,
   "metadata": {},
   "outputs": [
    {
     "data": {
      "text/plain": [
       "tensor(indices=tensor([[1, 4]]),\n",
       "       values=tensor([1., 1.]),\n",
       "       size=(6,), nnz=2, layout=torch.sparse_coo)"
      ]
     },
     "execution_count": 4,
     "metadata": {},
     "output_type": "execute_result"
    }
   ],
   "source": [
    "# look-up\n",
    "A[0]"
   ]
  },
  {
   "cell_type": "code",
   "execution_count": 5,
   "metadata": {},
   "outputs": [
    {
     "data": {
      "text/plain": [
       "tensor([[0.9358, 0.4032, 0.3816],\n",
       "        [0.9314, 0.4971, 0.1345],\n",
       "        [0.2599, 0.5998, 0.0767],\n",
       "        [0.6099, 0.9369, 0.4610],\n",
       "        [0.0375, 0.5048, 0.9919],\n",
       "        [0.0321, 0.6819, 0.0410]])"
      ]
     },
     "execution_count": 5,
     "metadata": {},
     "output_type": "execute_result"
    }
   ],
   "source": [
    "# initial node feature\n",
    "# X = torch.diag_embed(torch.tensor([1., 1., 1., 1., 1., 1.]))\n",
    "X = (r1 - r2) * torch.rand(size=(6, 3)) + r2\n",
    "X"
   ]
  },
  {
   "cell_type": "code",
   "execution_count": 6,
   "metadata": {},
   "outputs": [
    {
     "data": {
      "text/plain": [
       "tensor([[1.],\n",
       "        [1.]])"
      ]
     },
     "execution_count": 6,
     "metadata": {},
     "output_type": "execute_result"
    }
   ],
   "source": [
    "A[0].coalesce().values().unsqueeze(0).T"
   ]
  },
  {
   "cell_type": "code",
   "execution_count": 7,
   "metadata": {},
   "outputs": [
    {
     "data": {
      "text/plain": [
       "tensor([1.9048, 1.4050, 1.5080])"
      ]
     },
     "execution_count": 7,
     "metadata": {},
     "output_type": "execute_result"
    }
   ],
   "source": [
    "# operate Message Passing\n",
    "X[0] + (\n",
    "    X[A[0].coalesce().indices()].squeeze() * \n",
    "    A[0].coalesce().values().unsqueeze(0).T\n",
    "    ).sum(dim=0)"
   ]
  },
  {
   "cell_type": "code",
   "execution_count": 8,
   "metadata": {},
   "outputs": [
    {
     "data": {
      "text/plain": [
       "tensor([[1.9048, 1.4050, 1.5080],\n",
       "        [2.1647, 2.0048, 1.5847],\n",
       "        [1.8012, 2.0337, 0.6722],\n",
       "        [0.9394, 2.7233, 1.5706],\n",
       "        [2.5146, 2.3419, 1.9690],\n",
       "        [0.6420, 1.6187, 0.5020]])"
      ]
     },
     "execution_count": 8,
     "metadata": {},
     "output_type": "execute_result"
    }
   ],
   "source": [
    "# GCN version\n",
    "# A_hat = A.to_dense()\n",
    "A_hat = A.to_dense() + torch.diag_embed(torch.tensor([1., 1., 1., 1., 1., 1.]))\n",
    "A_hat.to_dense() @ X"
   ]
  },
  {
   "cell_type": "code",
   "execution_count": 9,
   "metadata": {},
   "outputs": [
    {
     "data": {
      "text/plain": [
       "tensor([[0.2579, 0.8690],\n",
       "        [0.9049, 0.2583],\n",
       "        [0.9995, 0.3938],\n",
       "        [0.9352, 0.0540],\n",
       "        [0.5199, 0.7551],\n",
       "        [0.0026, 0.4244]])"
      ]
     },
     "execution_count": 9,
     "metadata": {},
     "output_type": "execute_result"
    }
   ],
   "source": [
    "X = (r1 - r2) * torch.rand(size=(6, 2)) + r2\n",
    "X"
   ]
  },
  {
   "cell_type": "code",
   "execution_count": 10,
   "metadata": {},
   "outputs": [
    {
     "name": "stdout",
     "output_type": "stream",
     "text": [
      "tensor([[0.9482, 0.9482],\n",
      "        [0.9793, 0.9793],\n",
      "        [0.9481, 0.9481],\n",
      "        [0.9774, 0.9774],\n",
      "        [0.9799, 0.9799],\n",
      "        [0.8630, 0.8630]])\n"
     ]
    }
   ],
   "source": [
    "# over-smoothing\n",
    "temp = X\n",
    "for i in range(10):\n",
    "    print(temp)\n",
    "    temp = torch.sigmoid( A_hat.to_dense() @ temp)\n",
    "    time.sleep(0.5)\n",
    "    clear_output(True)\n"
   ]
  }
 ],
 "metadata": {
  "kernelspec": {
   "display_name": "finalEnv",
   "language": "python",
   "name": "python3"
  },
  "language_info": {
   "codemirror_mode": {
    "name": "ipython",
    "version": 3
   },
   "file_extension": ".py",
   "mimetype": "text/x-python",
   "name": "python",
   "nbconvert_exporter": "python",
   "pygments_lexer": "ipython3",
   "version": "3.10.7"
  },
  "orig_nbformat": 4
 },
 "nbformat": 4,
 "nbformat_minor": 2
}
