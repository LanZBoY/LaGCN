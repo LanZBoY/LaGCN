{
 "cells": [
  {
   "cell_type": "code",
   "execution_count": 1,
   "metadata": {},
   "outputs": [],
   "source": [
    "import os\n",
    "import torch\n",
    "import pandas as pd\n",
    "import numpy as np\n",
    "from tqdm import tqdm\n",
    "from model import Vocaburary\n",
    "from utils import clean_str, remove_stopwords, nomalize_Adj\n",
    "import dgl.sparse as dglsp\n",
    "from IPython.display import clear_output"
   ]
  },
  {
   "cell_type": "code",
   "execution_count": 2,
   "metadata": {},
   "outputs": [],
   "source": [
    "label_range = range(2, 53)\n",
    "window_size = 20"
   ]
  },
  {
   "cell_type": "code",
   "execution_count": 3,
   "metadata": {},
   "outputs": [],
   "source": [
    "root = '.\\\\R52PreprocessData\\\\'\n",
    "train_path = os.path.join(root, \"train_data.csv\")\n",
    "test_path = os.path.join(root, \"test_data.csv\")"
   ]
  },
  {
   "cell_type": "code",
   "execution_count": 4,
   "metadata": {},
   "outputs": [],
   "source": [
    "train_df = pd.read_csv(train_path)\n",
    "test_df = pd.read_csv(test_path)"
   ]
  },
  {
   "cell_type": "code",
   "execution_count": 5,
   "metadata": {},
   "outputs": [],
   "source": [
    "train_df['text'] = train_df['text'].map(clean_str)\n",
    "test_df['text'] = test_df['text'].map(clean_str)\n",
    "train_df['text'] = train_df['text'].map(remove_stopwords)\n",
    "test_df['text'] = test_df['text'].map(remove_stopwords)"
   ]
  },
  {
   "cell_type": "code",
   "execution_count": 6,
   "metadata": {},
   "outputs": [],
   "source": [
    "dic_datas = {}"
   ]
  },
  {
   "cell_type": "code",
   "execution_count": 7,
   "metadata": {},
   "outputs": [
    {
     "name": "stdout",
     "output_type": "stream",
     "text": [
      "Label_Num = 52\n"
     ]
    },
    {
     "name": "stderr",
     "output_type": "stream",
     "text": [
      "Counting Training Word...: 100%|██████████| 6532/6532 [00:00<00:00, 72561.70it/s]\n",
      "Counting Testing Word...: 100%|██████████| 2568/2568 [00:00<00:00, 77803.02it/s]\n",
      "constrcuting train_word_set...: 100%|██████████| 6532/6532 [00:00<00:00, 343723.81it/s]\n",
      "constructing test_word_set...: 100%|██████████| 2568/2568 [00:00<00:00, 427911.99it/s]\n",
      "9100it [00:00, 151632.47it/s]\n",
      "Constructing Graph...: 100%|██████████| 9100/9100 [00:33<00:00, 273.75it/s]\n",
      "Building Graph...: 100%|██████████| 5738145/5738145 [00:02<00:00, 2172106.91it/s]\n"
     ]
    },
    {
     "name": "stdout",
     "output_type": "stream",
     "text": [
      "**************\n",
      "Done!\n"
     ]
    }
   ],
   "source": [
    "for label_num in label_range:\n",
    "    clear_output(wait = True)\n",
    "    print(f\"Label_Num = {label_num}\")\n",
    "    save_path = os.path.join(root, f'R{label_num}.gh')\n",
    "    # random_select_target = np.random.choice(52, size = label_num, replace = False)\n",
    "    random_select_target = np.arange(label_num)\n",
    "    train_select = pd.Series([False for _ in range(len(train_df))])\n",
    "    test_select = pd.Series([False for _ in range(len(test_df))])\n",
    "    for target in random_select_target:\n",
    "        train_select |= (train_df['target'] == target)\n",
    "        test_select |= (test_df['target'] == target)\n",
    "    sm_train_df = train_df[train_select].copy()\n",
    "    sm_test_df = test_df[test_select].copy()\n",
    "    word_count = {}\n",
    "    for text in tqdm(sm_train_df['text'], desc='Counting Training Word...'):\n",
    "        for word in text.split():\n",
    "            if word not in word_count:\n",
    "                word_count.update({word: 0})\n",
    "            word_count[word] +=1\n",
    "    for text in tqdm(sm_test_df['text'], desc='Counting Testing Word...'):\n",
    "        for word in text.split():\n",
    "            if word not in word_count:\n",
    "                word_count.update({word: 0})\n",
    "            word_count[word] +=1\n",
    "    voc = Vocaburary(word_count=word_count)\n",
    "\n",
    "    sm_train_df['ids'] = sm_train_df['text'].map(lambda x : voc.encode(x.split()))\n",
    "    sm_test_df['ids'] = sm_test_df['text'].map(lambda x : voc.encode(x.split()))\n",
    "\n",
    "    train_word_set = set()\n",
    "    test_word_set = set()\n",
    "    for ids in tqdm(sm_train_df['ids'], desc='constrcuting train_word_set...'):\n",
    "        id_set = set(ids)\n",
    "        train_word_set.update(ids)\n",
    "    for ids in tqdm(sm_test_df['ids'], desc='constructing test_word_set...'):\n",
    "        id_set = set(ids)\n",
    "        test_word_set.update(ids)\n",
    "\n",
    "    ALL_df = pd.concat([sm_train_df, sm_test_df], axis=0, ignore_index=True)\n",
    "    ALL_df['target'].unique()\n",
    "    map_to_label = {target : label for label, target in enumerate(ALL_df['target'].unique())}\n",
    "    ALL_df['target'] = ALL_df['target'].map(lambda x : map_to_label[x])\n",
    "    label_num = ALL_df['target'].unique().max() + 1\n",
    "    doc_word_graph = {\"doc_node\": [],\n",
    "                \"word_node\" : []}\n",
    "    label_word_graph = {\"label_node\" : [],\n",
    "                        \"word_node\" : []}\n",
    "    for doc_id, (label_id, ids) in enumerate(tqdm(zip(ALL_df['target'], ALL_df['ids']))):\n",
    "        data = ids\n",
    "        doc_word_graph['doc_node'] += [doc_id for _ in data]\n",
    "        doc_word_graph['word_node'] += data\n",
    "\n",
    "        label_word_graph['label_node'] += [label_id for _ in data]\n",
    "        label_word_graph['word_node'] += data\n",
    "    doc_num = doc_id + 1\n",
    "\n",
    "    doc_word_mat = dglsp.spmatrix(\n",
    "        indices = torch.tensor([doc_word_graph['doc_node'], doc_word_graph['word_node']]),\n",
    "        shape = (doc_num, len(voc))\n",
    "        )\n",
    "\n",
    "    label_word_mat = dglsp.spmatrix(\n",
    "        indices = torch.tensor([label_word_graph['label_node'], label_word_graph['word_node']]),\n",
    "        shape = (label_num, len(voc))\n",
    "        )\n",
    "    containMat = doc_word_mat.to_dense()\n",
    "    countMat = doc_word_mat.coalesce().to_dense()\n",
    "    tf = (countMat.T / (countMat.sum(dim=1) + 1e-9)).T\n",
    "    idf = torch.log10(containMat.shape[0] / (containMat.sum(dim=0) + 1e-9))\n",
    "    doc_word_tfidf = (tf * idf).to_sparse()\n",
    "    containMat = label_word_mat.to_dense()\n",
    "    countMat = label_word_mat.coalesce().to_dense()\n",
    "    tf = (countMat.T / (countMat.sum(dim=1) + 1e-9)).T\n",
    "    idf = torch.log10(containMat.shape[0] / (containMat.sum(dim=0) + 1e-9))\n",
    "    label_word_tfidf = (tf * idf).to_sparse()\n",
    "    word_Y = countMat / countMat.T.sum(dim=1)\n",
    "    src_dst_nodes = {}\n",
    "    total_window = 0.\n",
    "    for ids in tqdm(ALL_df['ids'], desc=\"Constructing Graph...\"):\n",
    "        for w in range(max(len(ids) - window_size + 1, 1)): \n",
    "            window = set(ids[w : w + window_size])\n",
    "            for i in window:\n",
    "                for j in window:\n",
    "                    if (i, j) not in src_dst_nodes:\n",
    "                        src_dst_nodes.update({(i, j) : 0})\n",
    "                    src_dst_nodes[(i,j)] += 1\n",
    "            total_window+=1.\n",
    "    src_nodes = []\n",
    "    dst_nodes = []\n",
    "    values = []\n",
    "    for (i,j) in tqdm(src_dst_nodes.keys(), desc='Building Graph...'):\n",
    "        src_nodes.append(i)\n",
    "        dst_nodes.append(j)\n",
    "        values.append(src_dst_nodes[(i,j)])\n",
    "\n",
    "    co_occurMat = dglsp.spmatrix(\n",
    "        torch.tensor([src_nodes, dst_nodes]), \n",
    "        val= torch.tensor(values, dtype=torch.float32), \n",
    "        shape=(len(voc), len(voc))\n",
    "        )\n",
    "\n",
    "    p_mat = (co_occurMat.to_dense() / total_window)\n",
    "    p_diag = torch.diag(p_mat)\n",
    "    p_diag = p_diag.unsqueeze(1) @ p_diag.unsqueeze(0)\n",
    "    word_word_PMI = (torch.log10(p_mat/(p_diag + 1e-9) + 1)).to_sparse()\n",
    "    word_word_PMI = nomalize_Adj(word_word_PMI)\n",
    "    whole_graph = torch.zeros(size = (word_word_PMI.shape[0] + doc_word_tfidf.shape[0] + label_word_tfidf.shape[0], word_word_PMI.shape[0] + doc_word_tfidf.shape[0] + label_word_tfidf.shape[0]))\n",
    "    D = doc_word_tfidf.shape[0]\n",
    "    W = word_word_PMI.shape[0]\n",
    "    L = label_word_tfidf.shape[0]\n",
    "    A = whole_graph.shape[0]\n",
    "    whole_graph[:D, :D] = torch.ones(size = (doc_num,)).diagflat() # doc-doc identity\n",
    "    whole_graph[:D,D:A-L] = doc_word_tfidf.to_dense() # tf-idf doc\n",
    "    whole_graph[D:A-L, :D] = doc_word_tfidf.T.to_dense() # tf-idf doc T\n",
    "    whole_graph[D:A-L, D:A-L] = word_word_PMI.to_dense() # word-word PMI\n",
    "    whole_graph[D:A-L, D+W:] = label_word_tfidf.T.to_dense() # label-word T\n",
    "    whole_graph[D+W:, D:A-L] = label_word_tfidf.to_dense() #label-word\n",
    "    whole_graph[D+W:, D+W:] = torch.ones(size = (label_num,)).diagflat() # label-label identity\n",
    "    whole_graph = whole_graph.to_sparse()\n",
    "    doc_Y = torch.tensor(ALL_df['target'].to_list(), dtype=torch.int64)\n",
    "    label_Y = torch.arange(0, L, 1, dtype = torch.int64)\n",
    "    train_mask = torch.zeros(size=(len(ALL_df), ), dtype=torch.bool)\n",
    "    train_mask[:len(sm_train_df)] = True\n",
    "    train_mask[len(sm_train_df):] = False\n",
    "    dic_data = {\n",
    "        \"voc\":voc,\n",
    "        'train_word' : train_word_set,\n",
    "        'test_word': test_word_set,\n",
    "        \"whole_graph\": whole_graph,\n",
    "        \"doc_Y\":doc_Y,\n",
    "        'word_Y': word_Y,\n",
    "        \"label_Y\":label_Y,\n",
    "        \"train_mask\": train_mask,\n",
    "        \"D\":D,\n",
    "        \"W\":W,\n",
    "        \"L\":L\n",
    "    }\n",
    "    torch.save(dic_data, save_path)\n",
    "    dic_datas[label_num] = dic_datas\n",
    "print('**************')\n",
    "print(f'Done!')"
   ]
  }
 ],
 "metadata": {
  "kernelspec": {
   "display_name": "finalEnv",
   "language": "python",
   "name": "python3"
  },
  "language_info": {
   "codemirror_mode": {
    "name": "ipython",
    "version": 3
   },
   "file_extension": ".py",
   "mimetype": "text/x-python",
   "name": "python",
   "nbconvert_exporter": "python",
   "pygments_lexer": "ipython3",
   "version": "3.10.7"
  },
  "orig_nbformat": 4
 },
 "nbformat": 4,
 "nbformat_minor": 2
}
