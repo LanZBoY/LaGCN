{
 "cells": [
  {
   "cell_type": "code",
   "execution_count": 1,
   "metadata": {},
   "outputs": [
    {
     "name": "stderr",
     "output_type": "stream",
     "text": [
      "c:\\Users\\Wen2Tee5\\Desktop\\Postgraduate\\final\\finalEnv\\lib\\site-packages\\tqdm\\auto.py:21: TqdmWarning: IProgress not found. Please update jupyter and ipywidgets. See https://ipywidgets.readthedocs.io/en/stable/user_install.html\n",
      "  from .autonotebook import tqdm as notebook_tqdm\n"
     ]
    }
   ],
   "source": [
    "import torch\n",
    "from tqdm import tqdm\n",
    "from model import Vocaburary, TextGCN"
   ]
  },
  {
   "cell_type": "code",
   "execution_count": 2,
   "metadata": {},
   "outputs": [],
   "source": [
    "EPOCH = 300\n",
    "HIDDEN_DIM = 200"
   ]
  },
  {
   "cell_type": "code",
   "execution_count": 3,
   "metadata": {},
   "outputs": [],
   "source": [
    "dataset_names = {\n",
    "    \"20NewsGroup\": \"20NG\",\n",
    "    \"MR\":\"mr\",\n",
    "    \"Ohsumed\":\"ohsumed_single_23\",\n",
    "    \"R52\":\"R52\",\n",
    "    \"R8\":\"R8\"\n",
    "}\n",
    "dir_name = dataset_names['MR']"
   ]
  },
  {
   "cell_type": "code",
   "execution_count": 4,
   "metadata": {},
   "outputs": [
    {
     "data": {
      "text/plain": [
       "dict_keys(['voc', 'train_word', 'test_word', 'whole_graph', 'doc_Y', 'word_Y', 'label_Y', 'train_mask', 'D', 'W', 'L'])"
      ]
     },
     "execution_count": 4,
     "metadata": {},
     "output_type": "execute_result"
    }
   ],
   "source": [
    "dict_data = torch.load(f'./ProcessedData/{dir_name}/WholeGraphDict.gh')\n",
    "dict_data.keys()"
   ]
  },
  {
   "cell_type": "code",
   "execution_count": 5,
   "metadata": {},
   "outputs": [],
   "source": [
    "voc : Vocaburary = dict_data['voc']\n",
    "whole_graph = dict_data['whole_graph'].cuda()\n",
    "word_num = dict_data['W']\n",
    "label_num = dict_data['L']\n",
    "doc_num = dict_data['D']\n",
    "train_mask = dict_data['train_mask'].cuda()\n",
    "doc_Y : torch.Tensor = dict_data['doc_Y'].cuda()\n",
    "word_Y : torch.Tensor = dict_data['word_Y'].T.cuda()\n",
    "label_Y : torch.Tensor = dict_data['label_Y'].cuda()\n",
    "train_words = list(dict_data['train_word'])\n",
    "test_words = list(dict_data['test_word'])\n",
    "train_words.sort()\n",
    "test_words.sort()"
   ]
  },
  {
   "cell_type": "code",
   "execution_count": 6,
   "metadata": {},
   "outputs": [],
   "source": [
    "train_num = train_mask.count_nonzero().cpu().item()\n",
    "test_num = doc_num - train_num"
   ]
  },
  {
   "cell_type": "code",
   "execution_count": 7,
   "metadata": {},
   "outputs": [
    {
     "name": "stdout",
     "output_type": "stream",
     "text": [
      "{'#DOC': 10662, '#Word': 18764, '#Class': 2, '#Train': 7108, '#Test': 3554, '#NODE': 29428}\n"
     ]
    }
   ],
   "source": [
    "print({\n",
    "    \"#DOC\":doc_num,\n",
    "    \"#Word\":word_num,\n",
    "    \"#Class\":label_num,\n",
    "    \"#Train\" : train_num,\n",
    "    \"#Test\" : test_num,\n",
    "    \"#NODE\" : word_num + doc_num + label_num\n",
    "})"
   ]
  },
  {
   "cell_type": "code",
   "execution_count": 8,
   "metadata": {},
   "outputs": [
    {
     "name": "stderr",
     "output_type": "stream",
     "text": [
      "100%|██████████| 300/300 [00:09<00:00, 32.72it/s, LOSS=0.0832, Accuracy=0.894]\n"
     ]
    }
   ],
   "source": [
    "log = {\"ACC\": [], \"LOSS\": []}\n",
    "model = TextGCN(whole_graph.shape[0], HIDDEN_DIM, label_num).cuda()\n",
    "optim = torch.optim.Adam(model.parameters(), lr=1e-3)\n",
    "loss_fn = torch.nn.CrossEntropyLoss()\n",
    "trainingProcess = tqdm(range(EPOCH))\n",
    "for epoch in trainingProcess:\n",
    "    total_loss = 0.\n",
    "    optim.zero_grad()\n",
    "    y_hat = model(whole_graph)\n",
    "    doc_Y_hat = y_hat[:doc_num]\n",
    "    word_Y_hat = y_hat[doc_num:-label_num]\n",
    "    label_Y_hat = y_hat[doc_num+word_num :]\n",
    "    doc_loss = loss_fn(doc_Y_hat[train_mask], doc_Y[train_mask])\n",
    "    word_loss = loss_fn(word_Y_hat[train_words], word_Y[train_words])\n",
    "    label_loss = loss_fn(label_Y_hat, label_Y)\n",
    "    loss = 1.0 * doc_loss + 0.2 * word_loss  + 1. * label_loss\n",
    "    loss.backward()\n",
    "    optim.step()\n",
    "    loss_val = loss.item()\n",
    "    with torch.no_grad():\n",
    "        acc_val = ((doc_Y_hat.argmax(1)[~train_mask] == doc_Y.cuda()[~train_mask]).sum() / (~train_mask).sum()).item()\n",
    "    trainingProcess.set_postfix({\"LOSS\": loss_val, \"Accuracy\":acc_val})\n",
    "    log['ACC'].append(acc_val)\n",
    "    log[\"LOSS\"].append(loss_val)"
   ]
  },
  {
   "cell_type": "code",
   "execution_count": 9,
   "metadata": {},
   "outputs": [
    {
     "name": "stdout",
     "output_type": "stream",
     "text": [
      "0.9043331742286682\n"
     ]
    }
   ],
   "source": [
    "print(max(log['ACC']))"
   ]
  }
 ],
 "metadata": {
  "kernelspec": {
   "display_name": "finalEnv",
   "language": "python",
   "name": "python3"
  },
  "language_info": {
   "codemirror_mode": {
    "name": "ipython",
    "version": 3
   },
   "file_extension": ".py",
   "mimetype": "text/x-python",
   "name": "python",
   "nbconvert_exporter": "python",
   "pygments_lexer": "ipython3",
   "version": "3.10.7"
  },
  "orig_nbformat": 4,
  "vscode": {
   "interpreter": {
    "hash": "df88e35f54e019d6b6fa139624247b3dae6722fb16ba3fe7ba3d2dac403195d6"
   }
  }
 },
 "nbformat": 4,
 "nbformat_minor": 2
}
